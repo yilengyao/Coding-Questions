{
 "cells": [
  {
   "cell_type": "code",
   "execution_count": 128,
   "id": "7aa6295e",
   "metadata": {},
   "outputs": [],
   "source": [
    "from typing import List\n",
    "\n",
    "class Heap:\n",
    "    def __init__(self, isMaxHeap: bool) -> None:\n",
    "        self.__queue = []\n",
    "        self.__length = 0\n",
    "        self.__isMaxHeap = isMaxHeap\n",
    "        \n",
    "    def __init__(self, queue: List[int], isMaxHeap: bool) -> None:\n",
    "        self.__queue = queue\n",
    "        self.__length = len(self.__queue)\n",
    "        self.__isMaxHeap = isMaxHeap\n",
    "        self.__heapify()\n",
    "        \n",
    "    def getQueue(self) -> List:\n",
    "        return [x for x in self.__queue]\n",
    "    \n",
    "    def peak(self) -> int:\n",
    "        return self.__queue[0]\n",
    "    \n",
    "    def poll(self) -> int:\n",
    "        if self.__length == 0:\n",
    "            return None\n",
    "        self.__swap(0, self.__length - 1)\n",
    "        root = self.__queue.pop()\n",
    "        self.__length -= 1\n",
    "        self.__siftDown(0)\n",
    "        return root\n",
    "    \n",
    "    def setMaxHeap(self, isMaxHeap: bool) -> None:\n",
    "        self.__isMaxHeap = isMaxHeap\n",
    "        self.__heapify()\n",
    "    \n",
    "    def __heapify(self) -> None:\n",
    "        for i in range(self.__length)[::-1]:\n",
    "            self.__siftDown(i)\n",
    "    \n",
    "    def insert(self, number: int) -> None:\n",
    "        self.__queue.append(number)\n",
    "        self.__length += 1\n",
    "        self.__siftUp(self.__length -1)\n",
    "    \n",
    "    def __siftUp(self, index: int) -> None:\n",
    "        while not self.__isRoot(index) and self.__comparator(self.__queue[self.__getParent(index)], self.__queue[index]) < 0:\n",
    "            self.__swap(index, self.__getParent(index))\n",
    "            index = self.__getParent(index)\n",
    "            \n",
    "    def __siftDown(self, index: int) -> None:\n",
    "        while self.__getLeftChild(index) and self.__getRightChild(index):\n",
    "            if self.__comparator(self.__queue[self.__getLeftChild(index)], self.__queue[self.__getRightChild(index)]) >= 0:\n",
    "                if self.__comparator(self.__queue[index], self.__queue[self.__getLeftChild(index)]) < 0:\n",
    "                    self.__swap(index, self.__getLeftChild(index))\n",
    "                    index = self.__getLeftChild(index)\n",
    "                else:\n",
    "                    break\n",
    "            else:\n",
    "                if self.__comparator(self.__queue[index], self.__queue[self.__getRightChild(index)]) < 0:\n",
    "                    self.__swap(index, self.__getRightChild(index))\n",
    "                    index = self.__getRightChild(index)\n",
    "                else:\n",
    "                    break\n",
    "        while self.__getLeftChild(index):\n",
    "                if self.__comparator(self.__queue[index], self.__queue[self.__getLeftChild(index)]) < 0:\n",
    "                    self.__swap(index, self.__getLeftChild(index))\n",
    "                    index = self.__getLeftChild(index)\n",
    "                else:\n",
    "                    break\n",
    "    \n",
    "    def getLength(self) -> int:\n",
    "        return self.__length\n",
    "    \n",
    "    def __getParent(self, index: int) -> int:\n",
    "        return None if index <= 0 or index >= self.getLength() else (index - 1) // 2\n",
    "    \n",
    "    def __getLeftChild(self, index: int) -> int:\n",
    "        return None if index < 0 or index * 2 + 1 >= self.getLength() else index * 2 + 1\n",
    "    \n",
    "    def __getRightChild(self, index: int) -> int:\n",
    "        return None if index < 0 or index * 2 + 2 >= self.getLength() else index * 2 + 2\n",
    "                    \n",
    "    def __swap(self, i: int, j: int) -> None:\n",
    "        self.__queue[i], self.__queue[j] = self.__queue[j], self.__queue[i]\n",
    "        \n",
    "    def __isRoot(self, i: int) -> bool:\n",
    "        return i == 0;\n",
    "    \n",
    "    def __comparator(self, a: int, b: int) -> int:\n",
    "        # __comparator, if isMaxHeap, returns positive value if a > b, and negative value of a < b, otherwise 0\n",
    "        # __comparator, if not isMaxHeap, returns positive value if a < b, and negative value of a > b, otherwise 0\n",
    "        if self.__isMaxHeap:\n",
    "            return a - b\n",
    "        else:\n",
    "            return b - a\n",
    "        "
   ]
  },
  {
   "cell_type": "code",
   "execution_count": 138,
   "id": "1e6c59c0",
   "metadata": {},
   "outputs": [],
   "source": [
    "h = Heap([1,2,3,4,5], False)"
   ]
  },
  {
   "cell_type": "code",
   "execution_count": 139,
   "id": "0dd825bc",
   "metadata": {},
   "outputs": [
    {
     "data": {
      "text/plain": [
       "[1, 2, 3, 4, 5]"
      ]
     },
     "execution_count": 139,
     "metadata": {},
     "output_type": "execute_result"
    }
   ],
   "source": [
    "h.getQueue()"
   ]
  }
 ],
 "metadata": {
  "kernelspec": {
   "display_name": "Python 3 (ipykernel)",
   "language": "python",
   "name": "python3"
  },
  "language_info": {
   "codemirror_mode": {
    "name": "ipython",
    "version": 3
   },
   "file_extension": ".py",
   "mimetype": "text/x-python",
   "name": "python",
   "nbconvert_exporter": "python",
   "pygments_lexer": "ipython3",
   "version": "3.9.6"
  }
 },
 "nbformat": 4,
 "nbformat_minor": 5
}
